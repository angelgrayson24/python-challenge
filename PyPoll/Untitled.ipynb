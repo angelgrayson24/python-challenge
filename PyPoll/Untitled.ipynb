{
 "cells": [
  {
   "cell_type": "code",
   "execution_count": 6,
   "id": "992234ef-d40d-4cb6-9802-dc74d9d2b586",
   "metadata": {
    "tags": []
   },
   "outputs": [
    {
     "name": "stdout",
     "output_type": "stream",
     "text": [
      "Election Results\n",
      "-------------------------\n",
      "Total Votes: 369711\n",
      "-------------------------\n",
      "Charles Casper Stockham: 23.049% (85213)\n",
      "Diana DeGette: 73.812% (272892)\n",
      "Raymon Anthony Doane: 3.139% (11606)\n",
      "-------------------------\n",
      "Winner: Diana DeGette\n",
      "-------------------------\n",
      "Results exported to election_results.txt\n"
     ]
    }
   ],
   "source": [
    "import csv\n",
    "\n",
    "# Initialize variables\n",
    "total_votes = 0\n",
    "candidate_votes = {}\n",
    "\n",
    "# Read data from CSV\n",
    "with open('Resources/election_data.csv') as file:\n",
    "    reader = csv.reader(file)\n",
    "    next(reader)  \n",
    "    for row in reader:\n",
    "        total_votes += 1\n",
    "        candidate = row[2]\n",
    "        if candidate in candidate_votes:\n",
    "            candidate_votes[candidate] += 1\n",
    "        else:\n",
    "            candidate_votes[candidate] = 1\n",
    "\n",
    "# The total number of votes cast\n",
    "print(\"Election Results\")\n",
    "print(\"-------------------------\")\n",
    "print(f\"Total Votes: {total_votes}\")\n",
    "print(\"-------------------------\")\n",
    "\n",
    "# The percentage of votes each candidate won/ and The total number of votes each candidate won\n",
    "for candidate, votes in candidate_votes.items():\n",
    "    percentage = (votes / total_votes) * 100\n",
    "    print(f\"{candidate}: {percentage:.3f}% ({votes})\")\n",
    "\n",
    "# The winner of the election based on popular vote\n",
    "winner = max(candidate_votes, key=candidate_votes.get)\n",
    "print(\"-------------------------\")\n",
    "print(f\"Winner: {winner}\")\n",
    "print(\"-------------------------\")\n",
    "\n",
    "# Export results to a text file\n",
    "output_path = \"election_results.txt\"\n",
    "with open(output_path, \"w\") as output_file:\n",
    "    output_file.write\n",
    "\n",
    "print(f\"Results exported to {output_path}\")\n"
   ]
  },
  {
   "cell_type": "code",
   "execution_count": null,
   "id": "873b677e-59e1-42cb-b5b3-fd8f6e869ad8",
   "metadata": {},
   "outputs": [],
   "source": []
  }
 ],
 "metadata": {
  "kernelspec": {
   "display_name": "Python 3 (ipykernel)",
   "language": "python",
   "name": "python3"
  },
  "language_info": {
   "codemirror_mode": {
    "name": "ipython",
    "version": 3
   },
   "file_extension": ".py",
   "mimetype": "text/x-python",
   "name": "python",
   "nbconvert_exporter": "python",
   "pygments_lexer": "ipython3",
   "version": "3.10.11"
  }
 },
 "nbformat": 4,
 "nbformat_minor": 5
}
