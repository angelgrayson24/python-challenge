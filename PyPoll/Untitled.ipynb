{
 "cells": [
  {
   "cell_type": "code",
   "execution_count": 3,
   "id": "992234ef-d40d-4cb6-9802-dc74d9d2b586",
   "metadata": {
    "tags": []
   },
   "outputs": [
    {
     "name": "stdout",
     "output_type": "stream",
     "text": [
      "Election Results\n",
      "-------------------------\n",
      "Total Votes: 369711\n",
      "-------------------------\n",
      "Charles Casper Stockham: 23.049% (85213)\n",
      "Diana DeGette: 73.812% (272892)\n",
      "Raymon Anthony Doane: 3.139% (11606)\n",
      "-------------------------\n",
      "Winner: Diana DeGette\n",
      "-------------------------\n"
     ]
    }
   ],
   "source": [
    "import pandas as pd\n",
    "\n",
    "\n",
    "df = pd.read_csv(\"Resources/election_data.csv\")\n",
    "\n",
    "# The total number of votes cast\n",
    "total_votes = len(df)\n",
    "\n",
    "#  complete list of candidates who received votes\n",
    "candidates = df[\"Candidate\"].unique()\n",
    "\n",
    "# The percentage of votes each candidate won\n",
    "candidate_votes = df[\"Candidate\"].value_counts()\n",
    "percent_votes = (candidate_votes / total_votes) * 100\n",
    "\n",
    "# The total number of votes each candidate won\n",
    "total_votes_per_candidate = candidate_votes\n",
    "\n",
    "# The winner of the election based on popular vote\n",
    "winner = candidate_votes.idxmax()\n",
    "\n",
    "# Print the results\n",
    "print(\"Election Results\")\n",
    "print(\"-------------------------\")\n",
    "print(f\"Total Votes: {total_votes}\")\n",
    "print(\"-------------------------\")\n",
    "for candidate in candidates:\n",
    "    print(f\"{candidate}: {percent_votes[candidate]:.3f}% ({total_votes_per_candidate[candidate]})\")\n",
    "print(\"-------------------------\")\n",
    "print(f\"Winner: {winner}\")\n",
    "print(\"-------------------------\")\n",
    "\n",
    "\n",
    "# Export the results to a text file\n",
    "with open(\"election_results.txt\", \"w\") as f:\n",
    "    f.write(\"Election Results\\n\")\n",
    "    f.write(\"-------------------------\\n\")\n",
    "    f.write(f\"Total Votes: {total_votes}\\n\")\n",
    "    f.write(\"-------------------------\\n\")\n",
    "    for candidate in candidates:\n",
    "        f.write(f\"{candidate}: {percent_votes[candidate]:.3f}% ({total_votes_per_candidate[candidate]})\\n\")\n",
    "    f.write(\"-------------------------\\n\")\n",
    "    f.write(f\"Winner: {winner}\\n\")\n",
    "    f.write(\"-------------------------\\n\")\n"
   ]
  },
  {
   "cell_type": "code",
   "execution_count": null,
   "id": "873b677e-59e1-42cb-b5b3-fd8f6e869ad8",
   "metadata": {},
   "outputs": [],
   "source": []
  }
 ],
 "metadata": {
  "kernelspec": {
   "display_name": "Python 3 (ipykernel)",
   "language": "python",
   "name": "python3"
  },
  "language_info": {
   "codemirror_mode": {
    "name": "ipython",
    "version": 3
   },
   "file_extension": ".py",
   "mimetype": "text/x-python",
   "name": "python",
   "nbconvert_exporter": "python",
   "pygments_lexer": "ipython3",
   "version": "3.10.11"
  }
 },
 "nbformat": 4,
 "nbformat_minor": 5
}
