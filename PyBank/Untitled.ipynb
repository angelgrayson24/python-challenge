{
 "cells": [
  {
   "cell_type": "code",
   "execution_count": 6,
   "id": "5391352f-6ffa-4ae0-bac5-3d3868f060ea",
   "metadata": {
    "tags": []
   },
   "outputs": [
    {
     "name": "stdout",
     "output_type": "stream",
     "text": [
      "Financial Analysis\n",
      "------------------\n",
      "Total Months: 86\n",
      "Net Total: $22564198\n",
      "Average Change: $-8311.11\n",
      "Greatest Increase in Profits: Aug-16 ($1862002.0)\n",
      "Greatest Decrease in Profits: Feb-14 ($-1825558.0)\n"
     ]
    }
   ],
   "source": [
    "import pandas as pd\n",
    "\n",
    "df = pd.read_csv(\"Resources/budget_data.csv\")\n",
    "\n",
    "# The total number of months included in the dataset\n",
    "total_months = len(df)\n",
    "\n",
    "# The net total amount of \"Profit/Losses\" over the entire period\n",
    "net_total = df[\"Profit/Losses\"].sum()\n",
    "\n",
    "# The changes in \"Profit/Losses\" over the entire period, and then the average of those changes\n",
    "df[\"Change\"] = df[\"Profit/Losses\"].diff()\n",
    "\n",
    "average_change = df[\"Change\"].mean()\n",
    "\n",
    "#The greatest increase in profits (date and amount) over the entire period\n",
    "max_increase = df[df[\"Change\"] == df[\"Change\"].max()]\n",
    "max_increase_date = max_increase[\"Date\"].values[0]\n",
    "max_increase_amount = max_increase[\"Change\"].values[0]\n",
    "\n",
    "# The greatest decrease in profits (date and amount) over the entire period\n",
    "max_decrease = df[df[\"Change\"] == df[\"Change\"].min()]\n",
    "max_decrease_date = max_decrease[\"Date\"].values[0]\n",
    "max_decrease_amount = max_decrease[\"Change\"].values[0]\n",
    "\n",
    "# print analysis to terminal\n",
    "print(\"Financial Analysis\")\n",
    "print(\"------------------\")\n",
    "print(f\"Total Months: {total_months}\")\n",
    "print(f\"Net Total: ${net_total}\")\n",
    "print(f\"Average Change: ${average_change:.2f}\")\n",
    "print(f\"Greatest Increase in Profits: {max_increase_date} (${max_increase_amount})\")\n",
    "print(f\"Greatest Decrease in Profits: {max_decrease_date} (${max_decrease_amount})\")\n",
    "\n",
    "# Export the results to a text file\n",
    "with open(\"financial_analysis_results.txt\", \"w\") as f:\n",
    "    f.write(\"Financial Analysis\\n\")\n",
    "    f.write(\"------------------\\n\")\n",
    "    f.write(f\"Total Months: {total_months}\\n\")\n",
    "    f.write(f\"Net Total: ${net_total}\\n\")\n",
    "    f.write(f\"Average Change: ${average_change:.2f}\\n\")\n",
    "    f.write(f\"Greatest Increase in Profits: {max_increase_date} (${max_increase_amount})\\n\")\n",
    "    f.write(f\"Greatest Decrease in Profits: {max_decrease_date} (${max_decrease_amount})\\n\")\n"
   ]
  },
  {
   "cell_type": "code",
   "execution_count": 4,
   "id": "e10029c4-ccc0-47de-8c4f-e848135252d5",
   "metadata": {
    "tags": []
   },
   "outputs": [],
   "source": []
  },
  {
   "cell_type": "code",
   "execution_count": null,
   "id": "0fd153d4-e314-4675-adcb-abf66a6d2ce8",
   "metadata": {},
   "outputs": [],
   "source": []
  }
 ],
 "metadata": {
  "kernelspec": {
   "display_name": "Python 3 (ipykernel)",
   "language": "python",
   "name": "python3"
  },
  "language_info": {
   "codemirror_mode": {
    "name": "ipython",
    "version": 3
   },
   "file_extension": ".py",
   "mimetype": "text/x-python",
   "name": "python",
   "nbconvert_exporter": "python",
   "pygments_lexer": "ipython3",
   "version": "3.10.11"
  }
 },
 "nbformat": 4,
 "nbformat_minor": 5
}
