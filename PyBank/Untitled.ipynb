{
 "cells": [
  {
   "cell_type": "code",
   "execution_count": 3,
   "id": "5391352f-6ffa-4ae0-bac5-3d3868f060ea",
   "metadata": {
    "tags": []
   },
   "outputs": [
    {
     "name": "stdout",
     "output_type": "stream",
     "text": [
      "Financial Analysis\n",
      "-----------------------------\n",
      "Total Months: 86\n",
      "Net Total: $22564198\n",
      "Average Change: $-8311.11\n",
      "Greatest Increase in Profits: Aug-16 ($1862002)\n",
      "Greatest Decrease in Profits: Feb-14 ($-1825558)\n",
      "Results exported to financial_analysis.txt\n"
     ]
    }
   ],
   "source": [
    "import csv\n",
    "\n",
    "# Initialize variables to store data\n",
    "months = []\n",
    "profits_losses = []\n",
    "\n",
    "# Read data from CSV\n",
    "with open('resources/budget_data.csv') as file:\n",
    "    reader = csv.reader(file)\n",
    "    next(reader)  \n",
    "    for row in reader:\n",
    "        date = row[0]\n",
    "        profit_loss = int(row[1])\n",
    "        months.append(date)\n",
    "        profits_losses.append(profit_loss)\n",
    "\n",
    "# The total number of months included in the dataset\n",
    "total_months = len(months)\n",
    "\n",
    "# The net total amount of \"Profit/Losses\" over the entire period\n",
    "net_total = sum(profits_losses)\n",
    "\n",
    "# The changes in \"Profit/Losses\" over the entire period, and then the average of those changes\n",
    "changes = [profits_losses[i+1] - profits_losses[i] for i in range(len(profits_losses)-1)]\n",
    "average_change = sum(changes) / len(changes)\n",
    "\n",
    "# The greatest increase and decrease in profits (date and amount) over the entire period\n",
    "greatest_increase = max(changes)\n",
    "greatest_increase_date = months[changes.index(greatest_increase) + 1] \n",
    "greatest_decrease = min(changes)\n",
    "greatest_decrease_date = months[changes.index(greatest_decrease) + 1]\n",
    "\n",
    "# Print results\n",
    "print(\"Financial Analysis\")\n",
    "print(\"-----------------------------\")\n",
    "print(f\"Total Months: {total_months}\")\n",
    "print(f\"Net Total: ${net_total}\")\n",
    "print(f\"Average Change: ${average_change:.2f}\")\n",
    "print(f\"Greatest Increase in Profits: {greatest_increase_date} (${greatest_increase})\")\n",
    "print(f\"Greatest Decrease in Profits: {greatest_decrease_date} (${greatest_decrease})\")\n",
    "\n",
    "# Export results to a text file\n",
    "output_path = \"financial_analysis.txt\"\n",
    "with open(output_path, \"w\") as output_file:\n",
    "    output_file.write(\"Financial Analysis\\n\")\n",
    "    output_file.write(\"-----------------------------\\n\")\n",
    "    output_file.write(f\"Total Months: {total_months}\\n\")\n",
    "    output_file.write(f\"Net Total: ${net_total}\\n\")\n",
    "    output_file.write(f\"Average Change: ${average_change:.2f}\\n\")\n",
    "    output_file.write(f\"Greatest Increase in Profits: {greatest_increase_date} (${greatest_increase})\\n\")\n",
    "    output_file.write(f\"Greatest Decrease in Profits: {greatest_decrease_date} (${greatest_decrease})\\n\")\n",
    "\n",
    "print(f\"Results exported to {output_path}\")\n",
    "\n",
    "\n"
   ]
  },
  {
   "cell_type": "code",
   "execution_count": 4,
   "id": "e10029c4-ccc0-47de-8c4f-e848135252d5",
   "metadata": {
    "tags": []
   },
   "outputs": [],
   "source": []
  },
  {
   "cell_type": "code",
   "execution_count": null,
   "id": "0fd153d4-e314-4675-adcb-abf66a6d2ce8",
   "metadata": {},
   "outputs": [],
   "source": []
  }
 ],
 "metadata": {
  "kernelspec": {
   "display_name": "Python 3 (ipykernel)",
   "language": "python",
   "name": "python3"
  },
  "language_info": {
   "codemirror_mode": {
    "name": "ipython",
    "version": 3
   },
   "file_extension": ".py",
   "mimetype": "text/x-python",
   "name": "python",
   "nbconvert_exporter": "python",
   "pygments_lexer": "ipython3",
   "version": "3.10.11"
  }
 },
 "nbformat": 4,
 "nbformat_minor": 5
}
